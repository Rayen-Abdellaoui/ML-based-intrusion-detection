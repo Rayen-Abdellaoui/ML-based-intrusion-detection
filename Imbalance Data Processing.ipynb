{
 "cells": [
  {
   "cell_type": "markdown",
   "metadata": {},
   "source": [
    "# <b>Import Data</b>"
   ]
  },
  {
   "cell_type": "code",
   "execution_count": 1,
   "metadata": {},
   "outputs": [],
   "source": [
    "import pandas as pd\n",
    "from sklearn.preprocessing import StandardScaler, LabelEncoder\n",
    "import numpy as np\n",
    "from imblearn.over_sampling import SMOTE"
   ]
  },
  {
   "cell_type": "code",
   "execution_count": 2,
   "metadata": {},
   "outputs": [
    {
     "data": {
      "text/plain": [
       "(1783356, 79)"
      ]
     },
     "execution_count": 2,
     "metadata": {},
     "output_type": "execute_result"
    }
   ],
   "source": [
    "df = pd.read_csv(\"./train.csv\")\n",
    "df.shape"
   ]
  },
  {
   "cell_type": "code",
   "execution_count": 3,
   "metadata": {},
   "outputs": [],
   "source": [
    "df.columns = df.columns.str.strip()"
   ]
  },
  {
   "cell_type": "code",
   "execution_count": 4,
   "metadata": {},
   "outputs": [],
   "source": [
    "features =['Destination Port', 'Total Fwd Packets', 'Total Length of Fwd Packets',\n",
    "       'Total Length of Bwd Packets', 'Fwd Packet Length Max',\n",
    "       'Fwd Packet Length Mean', 'Bwd Packet Length Max',\n",
    "       'Bwd Packet Length Mean', 'Bwd Packet Length Std', 'Fwd IAT Std',\n",
    "       'Fwd Header Length', 'Bwd Header Length', 'Bwd Packets/s',\n",
    "       'Max Packet Length', 'Packet Length Mean', 'Packet Length Std',\n",
    "       'Packet Length Variance', 'PSH Flag Count', 'Average Packet Size',\n",
    "       'Avg Fwd Segment Size', 'Avg Bwd Segment Size', 'Fwd Header Length.1',\n",
    "       'Subflow Fwd Packets', 'Subflow Fwd Bytes', 'Subflow Bwd Bytes',\n",
    "       'Init_Win_bytes_forward', 'Init_Win_bytes_backward','Label']"
   ]
  },
  {
   "cell_type": "code",
   "execution_count": 5,
   "metadata": {},
   "outputs": [
    {
     "data": {
      "text/plain": [
       "Label\n",
       "BENIGN                        1432050\n",
       "DoS Hulk                       145575\n",
       "PortScan                       100125\n",
       "DDoS                            80656\n",
       "DoS GoldenEye                    6484\n",
       "FTP-Patator                      5000\n",
       "SSH-Patator                      3714\n",
       "DoS slowloris                    3651\n",
       "DoS Slowhttptest                 3464\n",
       "Bot                              1238\n",
       "Web Attack � Brute Force          949\n",
       "Web Attack � XSS                  410\n",
       "Infiltration                       22\n",
       "Web Attack � Sql Injection         12\n",
       "Heartbleed                          6\n",
       "Name: count, dtype: int64"
      ]
     },
     "execution_count": 5,
     "metadata": {},
     "output_type": "execute_result"
    }
   ],
   "source": [
    "df[\"Label\"].value_counts()"
   ]
  },
  {
   "cell_type": "code",
   "execution_count": 6,
   "metadata": {},
   "outputs": [],
   "source": [
    "df = df[features]"
   ]
  },
  {
   "cell_type": "code",
   "execution_count": 7,
   "metadata": {},
   "outputs": [
    {
     "name": "stdout",
     "output_type": "stream",
     "text": [
      "(1783356, 27)\n",
      "(1783356,)\n"
     ]
    }
   ],
   "source": [
    "X = df.drop(columns=['Label'])\n",
    "y = df[\"Label\"]\n",
    "print(X.shape)\n",
    "print(y.shape)"
   ]
  },
  {
   "cell_type": "markdown",
   "metadata": {},
   "source": [
    "### Seperating into different dataframes"
   ]
  },
  {
   "cell_type": "code",
   "execution_count": 8,
   "metadata": {},
   "outputs": [],
   "source": [
    "high_classes = ['BENIGN', 'DoS Hulk', 'PortScan', 'DDoS']\n",
    "middle_classes = ['DoS GoldenEye', 'FTP-Patator', 'SSH-Patator', 'DoS slowloris', 'DoS Slowhttptest','Bot']\n",
    "low_classes = ['Web Attack � Brute Force', 'Web Attack � XSS', 'Infiltration', 'Web Attack � Sql Injection', 'Heartbleed']"
   ]
  },
  {
   "cell_type": "code",
   "execution_count": 9,
   "metadata": {},
   "outputs": [],
   "source": [
    "def clean_dataset(df):\n",
    "    assert isinstance(df, pd.DataFrame)\n",
    "    \n",
    "    # Drop rows with missing values\n",
    "    df.dropna(inplace=True)\n",
    "    \n",
    "    # Drop rows with infinity or negative infinity\n",
    "    indices_to_keep = ~df.isin([np.nan, np.inf, -np.inf]).any(axis=1)\n",
    "    df = df[indices_to_keep]\n",
    "\n",
    "    return df"
   ]
  },
  {
   "cell_type": "markdown",
   "metadata": {},
   "source": [
    "# <b>Working with Low Samples</b>"
   ]
  },
  {
   "cell_type": "code",
   "execution_count": 10,
   "metadata": {},
   "outputs": [
    {
     "name": "stderr",
     "output_type": "stream",
     "text": [
      "C:\\Users\\user\\AppData\\Local\\Temp\\ipykernel_15380\\3578778472.py:5: SettingWithCopyWarning: \n",
      "A value is trying to be set on a copy of a slice from a DataFrame\n",
      "\n",
      "See the caveats in the documentation: https://pandas.pydata.org/pandas-docs/stable/user_guide/indexing.html#returning-a-view-versus-a-copy\n",
      "  df.dropna(inplace=True)\n"
     ]
    }
   ],
   "source": [
    "low_df = df[df['Label'].isin(low_classes)]\n",
    "low_df = clean_dataset(low_df)\n",
    "\n",
    "# Encode categorical labels\n",
    "label_encoder = LabelEncoder()\n",
    "low_df['Label'] = label_encoder.fit_transform(low_df['Label'])\n",
    "\n",
    "oversampling_ratios = {\n",
    "    label_encoder.transform(['Web Attack � Brute Force'])[0]: 950, \n",
    "    label_encoder.transform(['Web Attack � XSS'])[0]: 800,        \n",
    "    label_encoder.transform(['Infiltration'])[0]: 250,            \n",
    "    label_encoder.transform(['Web Attack � Sql Injection'])[0]: 250, \n",
    "    label_encoder.transform(['Heartbleed'])[0]: 250\n",
    "    \n",
    "}"
   ]
  },
  {
   "cell_type": "code",
   "execution_count": 11,
   "metadata": {},
   "outputs": [
    {
     "data": {
      "text/plain": [
       "Label\n",
       "Web Attack � XSS              1210\n",
       "Web Attack � Brute Force       949\n",
       "Infiltration                   272\n",
       "Web Attack � Sql Injection     262\n",
       "Heartbleed                     256\n",
       "Name: count, dtype: int64"
      ]
     },
     "execution_count": 11,
     "metadata": {},
     "output_type": "execute_result"
    }
   ],
   "source": [
    "X = low_df.drop(columns=['Label'])\n",
    "y = low_df['Label']\n",
    "\n",
    "# Apply SMOTE to balance classes with desired ratios\n",
    "smote = SMOTE(sampling_strategy=oversampling_ratios, random_state=42)\n",
    "X_resampled, y_resampled = smote.fit_resample(X, y)\n",
    "\n",
    "# Create a new DataFrame for the resampled data\n",
    "resampled_df = pd.DataFrame(X_resampled, columns=X.columns)\n",
    "resampled_df['Label'] = y_resampled\n",
    "\n",
    "low_df['data_type'] = 'Original'\n",
    "resampled_df['data_type'] = 'Augmented'\n",
    "\n",
    "low_final_df = pd.concat([low_df, resampled_df], ignore_index=True)\n",
    "\n",
    "# Decode the categorical labels back to original values\n",
    "low_final_df['Label'] = label_encoder.inverse_transform(low_final_df['Label'])\n",
    "low_final_df = low_final_df.drop(low_final_df[(low_final_df['Label'] == 'Web Attack � Brute Force') & (low_final_df['data_type'] == 'Augmented')].index)\n",
    "\n",
    "low_final_df = low_final_df.drop(columns=['data_type'])\n",
    "low_final_df[\"Label\"].value_counts()\n",
    "\n"
   ]
  },
  {
   "cell_type": "markdown",
   "metadata": {},
   "source": [
    "# <b>Working with High Samples</b>"
   ]
  },
  {
   "cell_type": "code",
   "execution_count": 12,
   "metadata": {},
   "outputs": [
    {
     "name": "stderr",
     "output_type": "stream",
     "text": [
      "C:\\Users\\user\\AppData\\Local\\Temp\\ipykernel_15380\\3578778472.py:5: SettingWithCopyWarning: \n",
      "A value is trying to be set on a copy of a slice from a DataFrame\n",
      "\n",
      "See the caveats in the documentation: https://pandas.pydata.org/pandas-docs/stable/user_guide/indexing.html#returning-a-view-versus-a-copy\n",
      "  df.dropna(inplace=True)\n"
     ]
    }
   ],
   "source": [
    "high_df = df[df['Label'].isin(high_classes)]\n",
    "high_df = clean_dataset(high_df)\n",
    "# Encode categorical labels\n",
    "high_df['Label'] = label_encoder.fit_transform(high_df['Label'])"
   ]
  },
  {
   "cell_type": "code",
   "execution_count": 13,
   "metadata": {},
   "outputs": [
    {
     "data": {
      "text/plain": [
       "Label\n",
       "BENIGN      150000\n",
       "DoS Hulk    145575\n",
       "PortScan    100125\n",
       "DDoS         80656\n",
       "Name: count, dtype: int64"
      ]
     },
     "execution_count": 13,
     "metadata": {},
     "output_type": "execute_result"
    }
   ],
   "source": [
    "from sklearn.utils import resample\n",
    "\n",
    "majority_class = label_encoder.transform(['BENIGN'])[0]\n",
    "minority_classes = label_encoder.transform(['DoS Hulk', 'PortScan', 'DDoS'])\n",
    "majority_samples = high_df[high_df['Label'] == majority_class]\n",
    "minority_samples = high_df[high_df['Label'].isin(minority_classes)]\n",
    "\n",
    "# Downsample majority class\n",
    "downsampled_majority = resample(majority_samples,\n",
    "                                replace=False,  # Without replacement\n",
    "                                n_samples=150000,  # Desired number of samples\n",
    "                                random_state=42)  # For reproducibility\n",
    "\n",
    "high_final_df = pd.concat([downsampled_majority, minority_samples])\n",
    "# Shuffle the dataset to ensure randomness\n",
    "high_final_df = high_final_df.sample(frac=1, random_state=42)\n",
    "high_final_df['Label'] = label_encoder.inverse_transform(high_final_df['Label'])\n",
    "\n",
    "high_final_df[\"Label\"].value_counts()\n"
   ]
  },
  {
   "cell_type": "markdown",
   "metadata": {},
   "source": [
    "# <b>Concating Dataframes</b>"
   ]
  },
  {
   "cell_type": "code",
   "execution_count": 14,
   "metadata": {},
   "outputs": [
    {
     "name": "stderr",
     "output_type": "stream",
     "text": [
      "C:\\Users\\user\\AppData\\Local\\Temp\\ipykernel_15380\\3578778472.py:5: SettingWithCopyWarning: \n",
      "A value is trying to be set on a copy of a slice from a DataFrame\n",
      "\n",
      "See the caveats in the documentation: https://pandas.pydata.org/pandas-docs/stable/user_guide/indexing.html#returning-a-view-versus-a-copy\n",
      "  df.dropna(inplace=True)\n"
     ]
    }
   ],
   "source": [
    "mid_df = df[df['Label'].isin(middle_classes)]\n",
    "mid_df = clean_dataset(mid_df)"
   ]
  },
  {
   "cell_type": "code",
   "execution_count": 15,
   "metadata": {},
   "outputs": [],
   "source": [
    "concat_df = pd.concat([high_final_df, mid_df, low_final_df], ignore_index=True)\n",
    "concat_df.to_csv('data.csv', index=False)"
   ]
  }
 ],
 "metadata": {
  "kernelspec": {
   "display_name": "Atelier_ML",
   "language": "python",
   "name": "python3"
  },
  "language_info": {
   "codemirror_mode": {
    "name": "ipython",
    "version": 3
   },
   "file_extension": ".py",
   "mimetype": "text/x-python",
   "name": "python",
   "nbconvert_exporter": "python",
   "pygments_lexer": "ipython3",
   "version": "3.8.19"
  }
 },
 "nbformat": 4,
 "nbformat_minor": 2
}
